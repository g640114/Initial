{
 "cells": [
  {
   "cell_type": "markdown",
   "metadata": {},
   "source": [
    "<h2>今回の方針と結果</h2><p>\n",
    "    \n",
    "複数の識別器で学習し、アンサンブルで予測値を求める\n",
    "<ul>\n",
    "    <li>ロジスティック回帰、サポートベクターマシン、ランダムフォレスト、ナイーブベイズ</li>\n",
    "</ul>\n",
    "その前に、データの整形や白色化などの処理を実施する\n",
    "<p>\n",
    "でもあまり精度上がらず…　w<br>\n",
    "アンサンブルの前に、各識別器の精度向上がもう少し必要。<br>\n",
    "\n",
    "識別機の精度向上のために試した方策：\n",
    "<ul>\n",
    "    <li>説明変数に二乗の項を追加する：効果あり。例えばロジスティック回帰で、正答率が数%pt程度上昇。過少適合状態の改善？</li>\n",
    "    <li>学習データのサイズを増減させる：効果不明瞭。学習データを増やすと正答率が悪くなることもあった</li>\n",
    "    <li>各識別器のパラメータを調整する：効果不明瞭。本当はグリッドサーチなどでもう少し系統的にやった方がよい</li>\n",
    "</ul>\n",
    "<p>\n",
    "ロジスティック回帰、サポートベクターマシンおよびナイーブベイズは、訓練性能、汎化性能ともに満足いくものではなく、おそらく過少適合状態。学習データを増やしてもその状況は大きく変化なし。<p>\n",
    "    \n",
    "ランダムフォレストは階層を増やす(max_depth = None (default))と訓練性能は非常に高くなった（正答率 ~96%）ものの、汎化性能とのギャップが大きく過学習状態になっていることが見て取れる。<p>\n",
    "\n",
    "なお、アンサンブル学習により精度があまり上がらないのは、各識別器の意見（予測値）があまり割れていないからだと考えられる。（間違えるときはみんな同じように間違える）"
   ]
  },
  {
   "cell_type": "code",
   "execution_count": 1,
   "metadata": {},
   "outputs": [
    {
     "name": "stderr",
     "output_type": "stream",
     "text": [
      "C:\\Users\\05HWA\\AppData\\Local\\Continuum\\anaconda3\\lib\\site-packages\\sklearn\\ensemble\\weight_boosting.py:29: DeprecationWarning: numpy.core.umath_tests is an internal NumPy module and should not be imported. It will be removed in a future NumPy release.\n",
      "  from numpy.core.umath_tests import inner1d\n"
     ]
    }
   ],
   "source": [
    "import numpy as np\n",
    "import seaborn as sns\n",
    "import matplotlib.pyplot as plt\n",
    "import pandas as pd\n",
    "\n",
    "from sklearn.model_selection import train_test_split\n",
    "from sklearn.metrics import log_loss, accuracy_score, confusion_matrix\n",
    "from sklearn.preprocessing import StandardScaler\n",
    "from sklearn.linear_model import SGDClassifier\n",
    "from sklearn.svm import SVC\n",
    "from sklearn.tree import DecisionTreeClassifier, export_graphviz\n",
    "from sklearn.externals.six import StringIO\n",
    "from sklearn.ensemble import RandomForestClassifier\n",
    "from sklearn.ensemble import VotingClassifier\n",
    "\n",
    "import graphviz\n",
    "import pydotplus\n",
    "from IPython.display import Image"
   ]
  },
  {
   "cell_type": "code",
   "execution_count": 2,
   "metadata": {},
   "outputs": [
    {
     "data": {
      "text/html": [
       "<div>\n",
       "<style scoped>\n",
       "    .dataframe tbody tr th:only-of-type {\n",
       "        vertical-align: middle;\n",
       "    }\n",
       "\n",
       "    .dataframe tbody tr th {\n",
       "        vertical-align: top;\n",
       "    }\n",
       "\n",
       "    .dataframe thead th {\n",
       "        text-align: right;\n",
       "    }\n",
       "</style>\n",
       "<table border=\"1\" class=\"dataframe\">\n",
       "  <thead>\n",
       "    <tr style=\"text-align: right;\">\n",
       "      <th></th>\n",
       "      <th>ID</th>\n",
       "      <th>name</th>\n",
       "      <th>category</th>\n",
       "      <th>main_category</th>\n",
       "      <th>currency</th>\n",
       "      <th>deadline</th>\n",
       "      <th>goal</th>\n",
       "      <th>launched</th>\n",
       "      <th>pledged</th>\n",
       "      <th>state</th>\n",
       "      <th>backers</th>\n",
       "      <th>country</th>\n",
       "      <th>usd pledged</th>\n",
       "      <th>usd_pledged_real</th>\n",
       "      <th>usd_goal_real</th>\n",
       "    </tr>\n",
       "  </thead>\n",
       "  <tbody>\n",
       "    <tr>\n",
       "      <th>0</th>\n",
       "      <td>1000002330</td>\n",
       "      <td>The Songs of Adelaide &amp; Abullah</td>\n",
       "      <td>Poetry</td>\n",
       "      <td>Publishing</td>\n",
       "      <td>GBP</td>\n",
       "      <td>2015-10-09</td>\n",
       "      <td>1000.0</td>\n",
       "      <td>2015-08-11 12:12:28</td>\n",
       "      <td>0.0</td>\n",
       "      <td>failed</td>\n",
       "      <td>0</td>\n",
       "      <td>GB</td>\n",
       "      <td>0.0</td>\n",
       "      <td>0.0</td>\n",
       "      <td>1533.95</td>\n",
       "    </tr>\n",
       "    <tr>\n",
       "      <th>1</th>\n",
       "      <td>1000003930</td>\n",
       "      <td>Greeting From Earth: ZGAC Arts Capsule For ET</td>\n",
       "      <td>Narrative Film</td>\n",
       "      <td>Film &amp; Video</td>\n",
       "      <td>USD</td>\n",
       "      <td>2017-11-01</td>\n",
       "      <td>30000.0</td>\n",
       "      <td>2017-09-02 04:43:57</td>\n",
       "      <td>2421.0</td>\n",
       "      <td>failed</td>\n",
       "      <td>15</td>\n",
       "      <td>US</td>\n",
       "      <td>100.0</td>\n",
       "      <td>2421.0</td>\n",
       "      <td>30000.00</td>\n",
       "    </tr>\n",
       "    <tr>\n",
       "      <th>2</th>\n",
       "      <td>1000004038</td>\n",
       "      <td>Where is Hank?</td>\n",
       "      <td>Narrative Film</td>\n",
       "      <td>Film &amp; Video</td>\n",
       "      <td>USD</td>\n",
       "      <td>2013-02-26</td>\n",
       "      <td>45000.0</td>\n",
       "      <td>2013-01-12 00:20:50</td>\n",
       "      <td>220.0</td>\n",
       "      <td>failed</td>\n",
       "      <td>3</td>\n",
       "      <td>US</td>\n",
       "      <td>220.0</td>\n",
       "      <td>220.0</td>\n",
       "      <td>45000.00</td>\n",
       "    </tr>\n",
       "    <tr>\n",
       "      <th>3</th>\n",
       "      <td>1000007540</td>\n",
       "      <td>ToshiCapital Rekordz Needs Help to Complete Album</td>\n",
       "      <td>Music</td>\n",
       "      <td>Music</td>\n",
       "      <td>USD</td>\n",
       "      <td>2012-04-16</td>\n",
       "      <td>5000.0</td>\n",
       "      <td>2012-03-17 03:24:11</td>\n",
       "      <td>1.0</td>\n",
       "      <td>failed</td>\n",
       "      <td>1</td>\n",
       "      <td>US</td>\n",
       "      <td>1.0</td>\n",
       "      <td>1.0</td>\n",
       "      <td>5000.00</td>\n",
       "    </tr>\n",
       "    <tr>\n",
       "      <th>4</th>\n",
       "      <td>1000011046</td>\n",
       "      <td>Community Film Project: The Art of Neighborhoo...</td>\n",
       "      <td>Film &amp; Video</td>\n",
       "      <td>Film &amp; Video</td>\n",
       "      <td>USD</td>\n",
       "      <td>2015-08-29</td>\n",
       "      <td>19500.0</td>\n",
       "      <td>2015-07-04 08:35:03</td>\n",
       "      <td>1283.0</td>\n",
       "      <td>canceled</td>\n",
       "      <td>14</td>\n",
       "      <td>US</td>\n",
       "      <td>1283.0</td>\n",
       "      <td>1283.0</td>\n",
       "      <td>19500.00</td>\n",
       "    </tr>\n",
       "  </tbody>\n",
       "</table>\n",
       "</div>"
      ],
      "text/plain": [
       "           ID                                               name  \\\n",
       "0  1000002330                    The Songs of Adelaide & Abullah   \n",
       "1  1000003930      Greeting From Earth: ZGAC Arts Capsule For ET   \n",
       "2  1000004038                                     Where is Hank?   \n",
       "3  1000007540  ToshiCapital Rekordz Needs Help to Complete Album   \n",
       "4  1000011046  Community Film Project: The Art of Neighborhoo...   \n",
       "\n",
       "         category main_category currency    deadline     goal  \\\n",
       "0          Poetry    Publishing      GBP  2015-10-09   1000.0   \n",
       "1  Narrative Film  Film & Video      USD  2017-11-01  30000.0   \n",
       "2  Narrative Film  Film & Video      USD  2013-02-26  45000.0   \n",
       "3           Music         Music      USD  2012-04-16   5000.0   \n",
       "4    Film & Video  Film & Video      USD  2015-08-29  19500.0   \n",
       "\n",
       "              launched  pledged     state  backers country  usd pledged  \\\n",
       "0  2015-08-11 12:12:28      0.0    failed        0      GB          0.0   \n",
       "1  2017-09-02 04:43:57   2421.0    failed       15      US        100.0   \n",
       "2  2013-01-12 00:20:50    220.0    failed        3      US        220.0   \n",
       "3  2012-03-17 03:24:11      1.0    failed        1      US          1.0   \n",
       "4  2015-07-04 08:35:03   1283.0  canceled       14      US       1283.0   \n",
       "\n",
       "   usd_pledged_real  usd_goal_real  \n",
       "0               0.0        1533.95  \n",
       "1            2421.0       30000.00  \n",
       "2             220.0       45000.00  \n",
       "3               1.0        5000.00  \n",
       "4            1283.0       19500.00  "
      ]
     },
     "metadata": {},
     "output_type": "display_data"
    }
   ],
   "source": [
    "df = pd.read_csv(\"./ks-projects-201801.csv\")\n",
    "display((df).head())"
   ]
  },
  {
   "cell_type": "code",
   "execution_count": 3,
   "metadata": {},
   "outputs": [],
   "source": [
    "#ファンディングの募集期間 Durationを計算\n",
    "df[\"deadline\"] = pd.to_datetime(df['deadline'])\n",
    "df[\"launched\"] = pd.to_datetime(df['launched'])\n",
    "df[\"duration\"] = df[\"deadline\"] - df[\"launched\"]\n",
    "\n",
    "#Durationを日数に変換し、一日当たりの目標金額を求める\n",
    "df['duration_days'] = df['duration'].dt.total_seconds() / (24 * 60 * 60)\n",
    "df['target_per_day'] = df['usd_goal_real'] / df['duration_days']"
   ]
  },
  {
   "cell_type": "code",
   "execution_count": 4,
   "metadata": {},
   "outputs": [],
   "source": [
    "#入力データの整形\n",
    "\n",
    "df1 = df.query('state == [\"successful\", \"failed\", \"canceled\"]')  # stateを成功、失敗、キャンセルだけに絞る\n",
    "\n",
    "df1 = df1[df1['duration_days'] < 1000]   # 外れ値を削除。募集期間1000日以上は無効データと判断\n",
    "df1 = df1[df1['target_per_day'] < 1e6]   # 同上。目標金額が一日当たり100万ドル以上の場合は無効データと判断\n",
    "\n",
    "df1[\"success\"] = df1[\"state\"] == \"successful\"  # ファンディングの結果が成功かそうでないかで2クラスに分類"
   ]
  },
  {
   "cell_type": "code",
   "execution_count": 5,
   "metadata": {},
   "outputs": [],
   "source": [
    "# カテゴリ変数のうち、インスタンス数の少ない値はothersにまとめる\n",
    "df1.country = df1.country.replace([\"AT\", \"BE\", \"CH\", \"DK\", \"HK\", \"IE\", \"LU\", \"NO\", \"SG\", \"JP\"], \"others\")\n",
    "df1.main_category = df1.main_category.replace([\"Comics\", \"Crafts\", \"Dance\", \"Journalism\", \"Photography\"], \"others\")\n",
    "df1.currency = df1.currency.replace([\"CHF\", \"HKD\", \"JPY\", \"NOK\", \"SGD\"], \"others\")"
   ]
  },
  {
   "cell_type": "code",
   "execution_count": 6,
   "metadata": {},
   "outputs": [],
   "source": [
    "# カテゴリ変数からone-hotベクトルを生成\n",
    "A = pd.get_dummies(df1[\"main_category\"],drop_first = True)\n",
    "B = pd.get_dummies(df1[\"country\"], drop_first = True)\n",
    "C = pd.get_dummies(df1[\"currency\"], drop_first = True)\n",
    "\n",
    "# 説明変数のベクトルを作成\n",
    "alpha = df1[\"usd_goal_real\"]\n",
    "beta = df1[\"target_per_day\"]\n",
    "gamma = df1[\"duration_days\"]\n",
    "\n",
    "A1 = pd.concat([A, B, C, alpha, beta, gamma, alpha **2, beta ** 2, gamma **2], axis = 1).values"
   ]
  },
  {
   "cell_type": "code",
   "execution_count": 7,
   "metadata": {},
   "outputs": [],
   "source": [
    "#説明変数の白色化\n",
    "\n",
    "#無相関化\n",
    "cov = np.cov(A1, rowvar=0)\n",
    "v, S = np.linalg.eig(cov)\n",
    "sdata = np.dot(S.T, A1.T).T\n",
    "\n",
    "#標準化\n",
    "sc = StandardScaler()\n",
    "sc.fit(sdata)\n",
    "A2 = sc.transform(sdata)"
   ]
  },
  {
   "cell_type": "code",
   "execution_count": 47,
   "metadata": {},
   "outputs": [
    {
     "name": "stdout",
     "output_type": "stream",
     "text": [
      "18519\n",
      "351868\n"
     ]
    }
   ],
   "source": [
    "# 訓練データ、テストデータの切り出し\n",
    "y = df1[\"success\"].values\n",
    "X = A2\n",
    "\n",
    "X_train, X_test, y_train, y_test = train_test_split(X, y, test_size=.95, random_state=0)\n",
    "print(len(X_train))\n",
    "print(len(X_test))"
   ]
  },
  {
   "cell_type": "code",
   "execution_count": 57,
   "metadata": {},
   "outputs": [
    {
     "name": "stderr",
     "output_type": "stream",
     "text": [
      "C:\\Users\\05HWA\\AppData\\Local\\Continuum\\anaconda3\\lib\\site-packages\\sklearn\\linear_model\\stochastic_gradient.py:128: FutureWarning: max_iter and tol parameters have been added in <class 'sklearn.linear_model.stochastic_gradient.SGDClassifier'> in 0.19. If both are left unset, they default to max_iter=5 and tol=None. If tol is not None, max_iter defaults to max_iter=1000. From 0.21, default max_iter will be 1000, and default tol will be 1e-3.\n",
      "  \"and default tol will be 1e-3.\" % type(self), FutureWarning)\n"
     ]
    }
   ],
   "source": [
    "# ロジスティック回帰\n",
    "clf1 = SGDClassifier(loss='log')\n",
    "clf1.fit(X_train, y_train)\n",
    "y_est1 = clf1.predict(X_train)"
   ]
  },
  {
   "cell_type": "code",
   "execution_count": 58,
   "metadata": {},
   "outputs": [
    {
     "name": "stdout",
     "output_type": "stream",
     "text": [
      "ロジスティック回帰\n",
      "\n",
      "訓練データ　正答率 = 62.514%\n"
     ]
    },
    {
     "data": {
      "text/html": [
       "<div>\n",
       "<style scoped>\n",
       "    .dataframe tbody tr th:only-of-type {\n",
       "        vertical-align: middle;\n",
       "    }\n",
       "\n",
       "    .dataframe tbody tr th {\n",
       "        vertical-align: top;\n",
       "    }\n",
       "\n",
       "    .dataframe thead th {\n",
       "        text-align: right;\n",
       "    }\n",
       "</style>\n",
       "<table border=\"1\" class=\"dataframe\">\n",
       "  <thead>\n",
       "    <tr style=\"text-align: right;\">\n",
       "      <th></th>\n",
       "      <th>0</th>\n",
       "      <th>1</th>\n",
       "    </tr>\n",
       "  </thead>\n",
       "  <tbody>\n",
       "    <tr>\n",
       "      <th>0</th>\n",
       "      <td>9105</td>\n",
       "      <td>2658</td>\n",
       "    </tr>\n",
       "    <tr>\n",
       "      <th>1</th>\n",
       "      <td>4284</td>\n",
       "      <td>2472</td>\n",
       "    </tr>\n",
       "  </tbody>\n",
       "</table>\n",
       "</div>"
      ],
      "text/plain": [
       "      0     1\n",
       "0  9105  2658\n",
       "1  4284  2472"
      ]
     },
     "metadata": {},
     "output_type": "display_data"
    },
    {
     "name": "stdout",
     "output_type": "stream",
     "text": [
      "テストデータ　正答率 = 62.463%\n"
     ]
    }
   ],
   "source": [
    "print('ロジスティック回帰')\n",
    "print()\n",
    "print('訓練データ　正答率 = {:.3f}%'.format(100 * accuracy_score(y_train, y_est1)))\n",
    "conf_mat1 = pd.DataFrame(confusion_matrix(y_train, y_est1))\n",
    "display(conf_mat1)\n",
    "\n",
    "# テストデータによる検証\n",
    "y_test1 = clf1.predict(X_test) \n",
    "print('テストデータ　正答率 = {:.3f}%'.format(100 * accuracy_score(y_test, y_test1)))"
   ]
  },
  {
   "cell_type": "code",
   "execution_count": 59,
   "metadata": {},
   "outputs": [],
   "source": [
    "# サポートベクターマシン\n",
    "C = 10\n",
    "clf2 = SVC(C=C)"
   ]
  },
  {
   "cell_type": "code",
   "execution_count": 60,
   "metadata": {},
   "outputs": [
    {
     "name": "stdout",
     "output_type": "stream",
     "text": [
      "サポートベクターマシン\n",
      "\n",
      "訓練データ　正答率 = 65.803%\n"
     ]
    },
    {
     "data": {
      "text/html": [
       "<div>\n",
       "<style scoped>\n",
       "    .dataframe tbody tr th:only-of-type {\n",
       "        vertical-align: middle;\n",
       "    }\n",
       "\n",
       "    .dataframe tbody tr th {\n",
       "        vertical-align: top;\n",
       "    }\n",
       "\n",
       "    .dataframe thead th {\n",
       "        text-align: right;\n",
       "    }\n",
       "</style>\n",
       "<table border=\"1\" class=\"dataframe\">\n",
       "  <thead>\n",
       "    <tr style=\"text-align: right;\">\n",
       "      <th></th>\n",
       "      <th>0</th>\n",
       "      <th>1</th>\n",
       "    </tr>\n",
       "  </thead>\n",
       "  <tbody>\n",
       "    <tr>\n",
       "      <th>0</th>\n",
       "      <td>10577</td>\n",
       "      <td>1186</td>\n",
       "    </tr>\n",
       "    <tr>\n",
       "      <th>1</th>\n",
       "      <td>5147</td>\n",
       "      <td>1609</td>\n",
       "    </tr>\n",
       "  </tbody>\n",
       "</table>\n",
       "</div>"
      ],
      "text/plain": [
       "       0     1\n",
       "0  10577  1186\n",
       "1   5147  1609"
      ]
     },
     "metadata": {},
     "output_type": "display_data"
    },
    {
     "name": "stdout",
     "output_type": "stream",
     "text": [
      "テストデータ　正答率 = 65.708%\n"
     ]
    }
   ],
   "source": [
    "clf2.fit(X_train, y_train)\n",
    "y_est2 = clf2.predict(X_train) \n",
    "\n",
    "print('サポートベクターマシン')\n",
    "print()\n",
    "print('訓練データ　正答率 = {:.3f}%'.format(100 * accuracy_score(y_train, y_est2)))\n",
    "conf_mat2 = pd.DataFrame(confusion_matrix(y_train, y_est2))\n",
    "display(conf_mat2)\n",
    "\n",
    "# テストデータによる検証\n",
    "y_test2 = clf2.predict(X_test) \n",
    "print('テストデータ　正答率 = {:.3f}%'.format(100 * accuracy_score(y_test, y_test2)))"
   ]
  },
  {
   "cell_type": "code",
   "execution_count": 61,
   "metadata": {},
   "outputs": [],
   "source": [
    "# ランダムフォレスト\n",
    "clf3 = RandomForestClassifier()"
   ]
  },
  {
   "cell_type": "code",
   "execution_count": 62,
   "metadata": {},
   "outputs": [
    {
     "name": "stdout",
     "output_type": "stream",
     "text": [
      "ランダムフォレスト\n",
      "\n",
      "訓練データ　正答率 = 96.895%\n"
     ]
    },
    {
     "data": {
      "text/html": [
       "<div>\n",
       "<style scoped>\n",
       "    .dataframe tbody tr th:only-of-type {\n",
       "        vertical-align: middle;\n",
       "    }\n",
       "\n",
       "    .dataframe tbody tr th {\n",
       "        vertical-align: top;\n",
       "    }\n",
       "\n",
       "    .dataframe thead th {\n",
       "        text-align: right;\n",
       "    }\n",
       "</style>\n",
       "<table border=\"1\" class=\"dataframe\">\n",
       "  <thead>\n",
       "    <tr style=\"text-align: right;\">\n",
       "      <th></th>\n",
       "      <th>0</th>\n",
       "      <th>1</th>\n",
       "    </tr>\n",
       "  </thead>\n",
       "  <tbody>\n",
       "    <tr>\n",
       "      <th>0</th>\n",
       "      <td>11678</td>\n",
       "      <td>85</td>\n",
       "    </tr>\n",
       "    <tr>\n",
       "      <th>1</th>\n",
       "      <td>490</td>\n",
       "      <td>6266</td>\n",
       "    </tr>\n",
       "  </tbody>\n",
       "</table>\n",
       "</div>"
      ],
      "text/plain": [
       "       0     1\n",
       "0  11678    85\n",
       "1    490  6266"
      ]
     },
     "metadata": {},
     "output_type": "display_data"
    },
    {
     "name": "stdout",
     "output_type": "stream",
     "text": [
      "ランダムフォレスト　テストデータ　正答率 = 62.540%\n"
     ]
    }
   ],
   "source": [
    "clf3.fit(X_train, y_train)\n",
    "y_est3 = clf3.predict(X_train)\n",
    "\n",
    "print('ランダムフォレスト')\n",
    "print()\n",
    "print('訓練データ　正答率 = {:.3f}%'.format(100 * accuracy_score(y_train, y_est3)))\n",
    "conf_mat3 = pd.DataFrame(confusion_matrix(y_train, y_est3))\n",
    "display(conf_mat3)\n",
    "\n",
    "# テストデータによる検証\n",
    "y_test3 = clf3.predict(X_test) \n",
    "print('ランダムフォレスト　テストデータ　正答率 = {:.3f}%'.format(100 * accuracy_score(y_test, y_test3)))"
   ]
  },
  {
   "cell_type": "code",
   "execution_count": 63,
   "metadata": {},
   "outputs": [],
   "source": [
    "#ナイーブベイズ（ベルヌーイ分布）\n",
    "from sklearn.naive_bayes import BernoulliNB\n",
    "clf4 = BernoulliNB()"
   ]
  },
  {
   "cell_type": "code",
   "execution_count": 64,
   "metadata": {},
   "outputs": [
    {
     "name": "stdout",
     "output_type": "stream",
     "text": [
      "ナイーブベイズ\n",
      "\n",
      "訓練データ　正答率 = 62.358%\n"
     ]
    },
    {
     "data": {
      "text/html": [
       "<div>\n",
       "<style scoped>\n",
       "    .dataframe tbody tr th:only-of-type {\n",
       "        vertical-align: middle;\n",
       "    }\n",
       "\n",
       "    .dataframe tbody tr th {\n",
       "        vertical-align: top;\n",
       "    }\n",
       "\n",
       "    .dataframe thead th {\n",
       "        text-align: right;\n",
       "    }\n",
       "</style>\n",
       "<table border=\"1\" class=\"dataframe\">\n",
       "  <thead>\n",
       "    <tr style=\"text-align: right;\">\n",
       "      <th></th>\n",
       "      <th>0</th>\n",
       "      <th>1</th>\n",
       "    </tr>\n",
       "  </thead>\n",
       "  <tbody>\n",
       "    <tr>\n",
       "      <th>0</th>\n",
       "      <td>8693</td>\n",
       "      <td>3070</td>\n",
       "    </tr>\n",
       "    <tr>\n",
       "      <th>1</th>\n",
       "      <td>3901</td>\n",
       "      <td>2855</td>\n",
       "    </tr>\n",
       "  </tbody>\n",
       "</table>\n",
       "</div>"
      ],
      "text/plain": [
       "      0     1\n",
       "0  8693  3070\n",
       "1  3901  2855"
      ]
     },
     "metadata": {},
     "output_type": "display_data"
    },
    {
     "name": "stdout",
     "output_type": "stream",
     "text": [
      "テストデータ　正答率 = 62.895%\n"
     ]
    }
   ],
   "source": [
    "clf4.fit(X_train, y_train)\n",
    "y_est4 = clf4.predict(X_train)\n",
    "\n",
    "print('ナイーブベイズ')\n",
    "print()\n",
    "print('訓練データ　正答率 = {:.3f}%'.format(100 * accuracy_score(y_train, y_est4)))\n",
    "conf_mat4 = pd.DataFrame(confusion_matrix(y_train, y_est4))\n",
    "display(conf_mat4)\n",
    "\n",
    "# テストデータによる検証\n",
    "y_test4 = clf0.predict(X_test) \n",
    "print('テストデータ　正答率 = {:.3f}%'.format(100 * accuracy_score(y_test, y_test4)))"
   ]
  },
  {
   "cell_type": "code",
   "execution_count": 65,
   "metadata": {},
   "outputs": [
    {
     "name": "stderr",
     "output_type": "stream",
     "text": [
      "C:\\Users\\05HWA\\AppData\\Local\\Continuum\\anaconda3\\lib\\site-packages\\sklearn\\linear_model\\stochastic_gradient.py:128: FutureWarning: max_iter and tol parameters have been added in <class 'sklearn.linear_model.stochastic_gradient.SGDClassifier'> in 0.19. If both are left unset, they default to max_iter=5 and tol=None. If tol is not None, max_iter defaults to max_iter=1000. From 0.21, default max_iter will be 1000, and default tol will be 1e-3.\n",
      "  \"and default tol will be 1e-3.\" % type(self), FutureWarning)\n"
     ]
    },
    {
     "data": {
      "text/plain": [
       "VotingClassifier(estimators=[('lr', SGDClassifier(alpha=0.0001, average=False, class_weight=None, epsilon=0.1,\n",
       "       eta0=0.0, fit_intercept=True, l1_ratio=0.15,\n",
       "       learning_rate='optimal', loss='log', max_iter=None, n_iter=None,\n",
       "       n_jobs=1, penalty='l2', power_t=0.5, random_state=None,\n",
       "       shuffle=True... warm_start=False)), ('NB', BernoulliNB(alpha=1.0, binarize=0.0, class_prior=None, fit_prior=True))],\n",
       "         flatten_transform=None, n_jobs=1, voting='hard', weights=None)"
      ]
     },
     "execution_count": 65,
     "metadata": {},
     "output_type": "execute_result"
    }
   ],
   "source": [
    "#4つの識別器が出力する予測の多数決で予測値を求める\n",
    "\n",
    "voting=VotingClassifier([('lr', clf1), ('SVM', clf2), ('rf', clf3), ('NB', clf4),], voting = 'hard')\n",
    "voting.fit(X_train, y_train)"
   ]
  },
  {
   "cell_type": "code",
   "execution_count": 66,
   "metadata": {},
   "outputs": [
    {
     "name": "stderr",
     "output_type": "stream",
     "text": [
      "C:\\Users\\05HWA\\AppData\\Local\\Continuum\\anaconda3\\lib\\site-packages\\sklearn\\preprocessing\\label.py:151: DeprecationWarning: The truth value of an empty array is ambiguous. Returning False, but in future this will result in an error. Use `array.size > 0` to check that an array is not empty.\n",
      "  if diff:\n"
     ]
    },
    {
     "name": "stdout",
     "output_type": "stream",
     "text": [
      "多数決　訓練データ　正答率 = 73.892%\n",
      "多数決　テストデータ　正答率 = 65.528%\n"
     ]
    },
    {
     "name": "stderr",
     "output_type": "stream",
     "text": [
      "C:\\Users\\05HWA\\AppData\\Local\\Continuum\\anaconda3\\lib\\site-packages\\sklearn\\preprocessing\\label.py:151: DeprecationWarning: The truth value of an empty array is ambiguous. Returning False, but in future this will result in an error. Use `array.size > 0` to check that an array is not empty.\n",
      "  if diff:\n"
     ]
    }
   ],
   "source": [
    "y_est4 = voting.predict(X_train)\n",
    "print('多数決　訓練データ　正答率 = {:.3f}%'.format(100 * accuracy_score(y_train, y_est4)))\n",
    "\n",
    "y_test4 = voting.predict(X_test)\n",
    "print('多数決　テストデータ　正答率 = {:.3f}%'.format(100 * accuracy_score(y_test, y_test4)))"
   ]
  }
 ],
 "metadata": {
  "kernelspec": {
   "display_name": "Python 3",
   "language": "python",
   "name": "python3"
  },
  "language_info": {
   "codemirror_mode": {
    "name": "ipython",
    "version": 3
   },
   "file_extension": ".py",
   "mimetype": "text/x-python",
   "name": "python",
   "nbconvert_exporter": "python",
   "pygments_lexer": "ipython3",
   "version": "3.6.4"
  }
 },
 "nbformat": 4,
 "nbformat_minor": 2
}
